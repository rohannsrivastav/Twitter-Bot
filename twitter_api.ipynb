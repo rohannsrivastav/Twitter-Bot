{
 "cells": [
  {
   "cell_type": "code",
   "execution_count": 3,
   "metadata": {},
   "outputs": [
    {
     "name": "stdout",
     "output_type": "stream",
     "text": [
      "getting tweets before 924143954857046015\n",
      "...92 tweets downloaded so far\n"
     ]
    },
    {
     "ename": "UnicodeEncodeError",
     "evalue": "'charmap' codec can't encode character '\\U0001f643' in position 78: character maps to <undefined>",
     "output_type": "error",
     "traceback": [
      "\u001b[1;31m---------------------------------------------------------------------------\u001b[0m",
      "\u001b[1;31mUnicodeEncodeError\u001b[0m                        Traceback (most recent call last)",
      "Cell \u001b[1;32mIn [3], line 57\u001b[0m\n\u001b[0;32m     55\u001b[0m writer \u001b[39m=\u001b[39m csv\u001b[39m.\u001b[39mwriter(f)\n\u001b[0;32m     56\u001b[0m writer\u001b[39m.\u001b[39mwriterow([\u001b[39m\"\u001b[39m\u001b[39mid\u001b[39m\u001b[39m\"\u001b[39m,\u001b[39m\"\u001b[39m\u001b[39mcreated_at\u001b[39m\u001b[39m\"\u001b[39m,\u001b[39m\"\u001b[39m\u001b[39mtext\u001b[39m\u001b[39m\"\u001b[39m])\n\u001b[1;32m---> 57\u001b[0m writer\u001b[39m.\u001b[39;49mwriterows(outtweets)\n",
      "File \u001b[1;32mC:\\Program Files\\WindowsApps\\PythonSoftwareFoundation.Python.3.9_3.9.3568.0_x64__qbz5n2kfra8p0\\lib\\encodings\\cp1252.py:19\u001b[0m, in \u001b[0;36mIncrementalEncoder.encode\u001b[1;34m(self, input, final)\u001b[0m\n\u001b[0;32m     18\u001b[0m \u001b[39mdef\u001b[39;00m \u001b[39mencode\u001b[39m(\u001b[39mself\u001b[39m, \u001b[39minput\u001b[39m, final\u001b[39m=\u001b[39m\u001b[39mFalse\u001b[39;00m):\n\u001b[1;32m---> 19\u001b[0m     \u001b[39mreturn\u001b[39;00m codecs\u001b[39m.\u001b[39;49mcharmap_encode(\u001b[39minput\u001b[39;49m,\u001b[39mself\u001b[39;49m\u001b[39m.\u001b[39;49merrors,encoding_table)[\u001b[39m0\u001b[39m]\n",
      "\u001b[1;31mUnicodeEncodeError\u001b[0m: 'charmap' codec can't encode character '\\U0001f643' in position 78: character maps to <undefined>"
     ]
    }
   ],
   "source": [
    "import tweepy\n",
    "import configparser\n",
    "import csv\n",
    "\n",
    "#read config file\n",
    "config= configparser.ConfigParser()\n",
    "config.read(r\"C:\\Users\\sriva\\OneDrive\\Desktop\\Open-source\\Twitter-joke bot\\config.cfg\")\n",
    "\n",
    "api_key=config['twitter']['api_key']\n",
    "api_key_secret=config['twitter']['api_key_secret']\n",
    "\n",
    "Access_Token=config['twitter']['Access_token']\n",
    "Access_Token_Secret=config['twitter']['Access_Token_Secret']\n",
    "\n",
    "#authenticaton\n",
    "\n",
    "auth= tweepy.OAuthHandler(api_key,api_key_secret)\n",
    "auth.set_access_token(Access_Token,Access_Token_Secret)\n",
    "\n",
    "api=tweepy.API(auth)\n",
    "\n",
    "# public_tweets=api.home_timeline()\n",
    "screen_name=\"rohansrii\"\n",
    "alltweets = []  \n",
    "    \n",
    "#make initial request for most recent tweets (200 is the maximum allowed count)\n",
    "new_tweets = api.user_timeline(screen_name = screen_name,count=200)\n",
    "    \n",
    "#save most recent tweets\n",
    "alltweets.extend(new_tweets)\n",
    "    \n",
    "#save the id of the oldest tweet less one\n",
    "oldest = alltweets[-1].id - 1\n",
    "    \n",
    "#keep grabbing tweets until there are no tweets left to grab\n",
    "while len(new_tweets) > 0:\n",
    "    print(f\"getting tweets before {oldest}\")\n",
    "        \n",
    "    #all subsiquent requests use the max_id param to prevent duplicates\n",
    "    new_tweets = api.user_timeline(screen_name = screen_name,count=200,max_id=oldest)\n",
    "        \n",
    "    #save most recent tweets\n",
    "    alltweets.extend(new_tweets)\n",
    "        \n",
    "    #update the id of the oldest tweet less one\n",
    "    oldest = alltweets[-1].id - 1\n",
    "        \n",
    "    print(f\"...{len(alltweets)} tweets downloaded so far\")\n",
    "    \n",
    "#transform the tweepy tweets into a 2D array that will populate the csv \n",
    "outtweets = [[tweet.id_str, tweet.created_at, tweet.text] for tweet in alltweets]\n",
    "    \n",
    "#write the csv  \n",
    "with open(r'C:\\Users\\sriva\\OneDrive\\Desktop\\Open-source\\Twitter-joke bot\\new_rohan_tweets.csv', 'w') as f:\n",
    "    writer = csv.writer(f)\n",
    "    writer.writerow([\"id\",\"created_at\",\"text\"])\n",
    "    writer.writerows(outtweets)\n"
   ]
  }
 ],
 "metadata": {
  "kernelspec": {
   "display_name": "Python 3.9.13 64-bit (microsoft store)",
   "language": "python",
   "name": "python3"
  },
  "language_info": {
   "codemirror_mode": {
    "name": "ipython",
    "version": 3
   },
   "file_extension": ".py",
   "mimetype": "text/x-python",
   "name": "python",
   "nbconvert_exporter": "python",
   "pygments_lexer": "ipython3",
   "version": "3.9.13"
  },
  "orig_nbformat": 4,
  "vscode": {
   "interpreter": {
    "hash": "d297e0904448d22385e94d4dd9bf11f9a74259c6d03a24c213291919706547d6"
   }
  }
 },
 "nbformat": 4,
 "nbformat_minor": 2
}
